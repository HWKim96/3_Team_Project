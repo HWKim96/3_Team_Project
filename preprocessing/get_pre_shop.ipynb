{
 "cells": [
  {
   "attachments": {},
   "cell_type": "markdown",
   "metadata": {},
   "source": [
    "shop 전처리"
   ]
  },
  {
   "cell_type": "code",
   "execution_count": 1,
   "metadata": {},
   "outputs": [],
   "source": [
    "import pandas as pd\n",
    "\n",
    "from sklearn.preprocessing import LabelEncoder"
   ]
  },
  {
   "cell_type": "code",
   "execution_count": 2,
   "metadata": {},
   "outputs": [],
   "source": [
    "shops = pd.read_csv('../data/shops.csv')"
   ]
  },
  {
   "cell_type": "code",
   "execution_count": 3,
   "metadata": {},
   "outputs": [
    {
     "name": "stdout",
     "output_type": "stream",
     "text": [
      "shop_name    0\n",
      "shop_id      0\n",
      "dtype: int64\n",
      "0\n"
     ]
    }
   ],
   "source": [
    "print(shops.isnull().sum())\n",
    "print(shops.duplicated().sum())"
   ]
  },
  {
   "cell_type": "code",
   "execution_count": 4,
   "metadata": {},
   "outputs": [
    {
     "name": "stderr",
     "output_type": "stream",
     "text": [
      "C:\\Users\\SBAUser\\AppData\\Local\\Temp\\ipykernel_19700\\2970142803.py:11: FutureWarning: The default value of regex will change from True to False in a future version.\n",
      "  shops['shop_name'] = shops['shop_name'].str.replace('Жуковский ул. Чкалова 39м?', 'Жуковский ул. Чкалова 39м²')\n",
      "C:\\Users\\SBAUser\\AppData\\Local\\Temp\\ipykernel_19700\\2970142803.py:16: FutureWarning: The default value of regex will change from True to False in a future version.\n",
      "  shops['shop_name'] = shops['shop_name'].str.replace('Жуковский ул. Чкалова 39м²²', 'Жуковский ул. Чкалова 39м²')\n"
     ]
    }
   ],
   "source": [
    "# shop_id와 shop_name 0을 57에 맞춰 변경\n",
    "shops['shop_id'] = shops['shop_id'].replace(0, 57)\n",
    "shops['shop_name'] = shops['shop_name'].str.replace('!Якутск Орджоникидзе, 56 фран', 'Якутск Орджоникидзе, 56')\n",
    "\n",
    "# shop_id와 shop_name 1을 58에 맞춰 변경\n",
    "shops['shop_id'] = shops['shop_id'].replace(1, 58)\n",
    "shops['shop_name'] = shops['shop_name'].str.replace('!Якутск ТЦ \"Центральный\" фран', 'Якутск ТЦ \"Центральный\"')\n",
    "\n",
    "# shop_id와 shop_name 11을 10에 맞춰 변경\n",
    "shops['shop_id'] = shops['shop_id'].replace(11, 10)\n",
    "shops['shop_name'] = shops['shop_name'].str.replace('Жуковский ул. Чкалова 39м?', 'Жуковский ул. Чкалова 39м²')\n",
    "\n",
    "# '?'가 안사라지고 붙기에 strip을 사용해서 '?' 제거\n",
    "shops['shop_name'] = shops['shop_name'].str.strip('?')\n",
    "# м²²으로 변경되서 м²로 다시 변경\n",
    "shops['shop_name'] = shops['shop_name'].str.replace('Жуковский ул. Чкалова 39м²²', 'Жуковский ул. Чкалова 39м²')\n",
    "\n",
    "# shop_id와 shop_name 40을 39에 맞춰 변경\n",
    "shops['shop_id'] = shops['shop_id'].replace(40, 39)\n",
    "shops['shop_name'] = shops['shop_name'].str.replace('РостовНаДону ТРК \"Мегацентр Горизонт\" Островной', 'РостовНаДону ТРК \"Мегацентр Горизонт\"')"
   ]
  },
  {
   "cell_type": "code",
   "execution_count": 5,
   "metadata": {},
   "outputs": [],
   "source": [
    "shops = shops.drop_duplicates()"
   ]
  },
  {
   "cell_type": "code",
   "execution_count": 6,
   "metadata": {},
   "outputs": [
    {
     "data": {
      "text/html": [
       "<div>\n",
       "<style scoped>\n",
       "    .dataframe tbody tr th:only-of-type {\n",
       "        vertical-align: middle;\n",
       "    }\n",
       "\n",
       "    .dataframe tbody tr th {\n",
       "        vertical-align: top;\n",
       "    }\n",
       "\n",
       "    .dataframe thead th {\n",
       "        text-align: right;\n",
       "    }\n",
       "</style>\n",
       "<table border=\"1\" class=\"dataframe\">\n",
       "  <thead>\n",
       "    <tr style=\"text-align: right;\">\n",
       "      <th></th>\n",
       "      <th>shop_name</th>\n",
       "      <th>shop_id</th>\n",
       "      <th>city</th>\n",
       "    </tr>\n",
       "  </thead>\n",
       "  <tbody>\n",
       "    <tr>\n",
       "      <th>0</th>\n",
       "      <td>Якутск Орджоникидзе, 56</td>\n",
       "      <td>57</td>\n",
       "      <td>Якутск</td>\n",
       "    </tr>\n",
       "    <tr>\n",
       "      <th>1</th>\n",
       "      <td>Якутск ТЦ \"Центральный\"</td>\n",
       "      <td>58</td>\n",
       "      <td>Якутск</td>\n",
       "    </tr>\n",
       "    <tr>\n",
       "      <th>2</th>\n",
       "      <td>Адыгея ТЦ \"Мега\"</td>\n",
       "      <td>2</td>\n",
       "      <td>Адыгея</td>\n",
       "    </tr>\n",
       "    <tr>\n",
       "      <th>3</th>\n",
       "      <td>Балашиха ТРК \"Октябрь-Киномир\"</td>\n",
       "      <td>3</td>\n",
       "      <td>Балашиха</td>\n",
       "    </tr>\n",
       "    <tr>\n",
       "      <th>4</th>\n",
       "      <td>Волжский ТЦ \"Волга Молл\"</td>\n",
       "      <td>4</td>\n",
       "      <td>Волжский</td>\n",
       "    </tr>\n",
       "  </tbody>\n",
       "</table>\n",
       "</div>"
      ],
      "text/plain": [
       "                        shop_name  shop_id      city\n",
       "0         Якутск Орджоникидзе, 56       57    Якутск\n",
       "1         Якутск ТЦ \"Центральный\"       58    Якутск\n",
       "2                Адыгея ТЦ \"Мега\"        2    Адыгея\n",
       "3  Балашиха ТРК \"Октябрь-Киномир\"        3  Балашиха\n",
       "4        Волжский ТЦ \"Волга Молл\"        4  Волжский"
      ]
     },
     "execution_count": 6,
     "metadata": {},
     "output_type": "execute_result"
    }
   ],
   "source": [
    "# 도시 컬럼 추가하기\n",
    "shops['city'] = shops['shop_name'].str.split(' ').map(lambda row: row[0])\n",
    "shops.head()"
   ]
  },
  {
   "cell_type": "code",
   "execution_count": 7,
   "metadata": {},
   "outputs": [
    {
     "data": {
      "text/html": [
       "<div>\n",
       "<style scoped>\n",
       "    .dataframe tbody tr th:only-of-type {\n",
       "        vertical-align: middle;\n",
       "    }\n",
       "\n",
       "    .dataframe tbody tr th {\n",
       "        vertical-align: top;\n",
       "    }\n",
       "\n",
       "    .dataframe thead th {\n",
       "        text-align: right;\n",
       "    }\n",
       "</style>\n",
       "<table border=\"1\" class=\"dataframe\">\n",
       "  <thead>\n",
       "    <tr style=\"text-align: right;\">\n",
       "      <th></th>\n",
       "      <th>shop_id</th>\n",
       "      <th>city_id</th>\n",
       "    </tr>\n",
       "  </thead>\n",
       "  <tbody>\n",
       "    <tr>\n",
       "      <th>0</th>\n",
       "      <td>57</td>\n",
       "      <td>29</td>\n",
       "    </tr>\n",
       "    <tr>\n",
       "      <th>1</th>\n",
       "      <td>58</td>\n",
       "      <td>29</td>\n",
       "    </tr>\n",
       "    <tr>\n",
       "      <th>2</th>\n",
       "      <td>2</td>\n",
       "      <td>0</td>\n",
       "    </tr>\n",
       "    <tr>\n",
       "      <th>3</th>\n",
       "      <td>3</td>\n",
       "      <td>1</td>\n",
       "    </tr>\n",
       "    <tr>\n",
       "      <th>4</th>\n",
       "      <td>4</td>\n",
       "      <td>2</td>\n",
       "    </tr>\n",
       "  </tbody>\n",
       "</table>\n",
       "</div>"
      ],
      "text/plain": [
       "   shop_id  city_id\n",
       "0       57       29\n",
       "1       58       29\n",
       "2        2        0\n",
       "3        3        1\n",
       "4        4        2"
      ]
     },
     "execution_count": 7,
     "metadata": {},
     "output_type": "execute_result"
    }
   ],
   "source": [
    "# 도시 종류별 숫자 라벨링을 해보자\n",
    "label = LabelEncoder()\n",
    "shops['city_id'] = label.fit_transform(shops['city'])\n",
    "# fit_transform(): train data에서만 쓰이는 것 >> 학습시키기 위해\n",
    "pre_shops = shops.drop(columns=[\"city\", \"shop_name\"])\n",
    "pre_shops.head()"
   ]
  },
  {
   "cell_type": "code",
   "execution_count": 8,
   "metadata": {},
   "outputs": [
    {
     "data": {
      "text/plain": [
       "shop_id    56\n",
       "city_id    56\n",
       "dtype: int64"
      ]
     },
     "execution_count": 8,
     "metadata": {},
     "output_type": "execute_result"
    }
   ],
   "source": [
    "pre_shops.count()"
   ]
  },
  {
   "cell_type": "code",
   "execution_count": 9,
   "metadata": {},
   "outputs": [],
   "source": [
    "pre_shops.to_csv(\"../pre_data/pre_shops.csv\")"
   ]
  }
 ],
 "metadata": {
  "kernelspec": {
   "display_name": "base",
   "language": "python",
   "name": "python3"
  },
  "language_info": {
   "codemirror_mode": {
    "name": "ipython",
    "version": 3
   },
   "file_extension": ".py",
   "mimetype": "text/x-python",
   "name": "python",
   "nbconvert_exporter": "python",
   "pygments_lexer": "ipython3",
   "version": "3.9.13"
  },
  "orig_nbformat": 4,
  "vscode": {
   "interpreter": {
    "hash": "1284a11239f1c582240c95e9b63f464998ce3454084d16e746adc349338fd12e"
   }
  }
 },
 "nbformat": 4,
 "nbformat_minor": 2
}
