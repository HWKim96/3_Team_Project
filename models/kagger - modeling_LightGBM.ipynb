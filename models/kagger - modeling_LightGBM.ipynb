{
 "cells": [
  {
   "cell_type": "code",
   "execution_count": 1,
   "id": "f3ec7059",
   "metadata": {},
   "outputs": [],
   "source": [
    "import numpy as np\n",
    "import pandas as pd"
   ]
  },
  {
   "cell_type": "code",
   "execution_count": 2,
   "id": "6ab57625",
   "metadata": {},
   "outputs": [
    {
     "name": "stderr",
     "output_type": "stream",
     "text": [
      "WARNING: Ignoring invalid distribution -pype1 (c:\\users\\sbauser\\anaconda3\\lib\\site-packages)\n",
      "WARNING: Ignoring invalid distribution -pype1 (c:\\users\\sbauser\\anaconda3\\lib\\site-packages)\n",
      "WARNING: Ignoring invalid distribution -pype1 (c:\\users\\sbauser\\anaconda3\\lib\\site-packages)\n",
      "WARNING: Ignoring invalid distribution -pype1 (c:\\users\\sbauser\\anaconda3\\lib\\site-packages)\n",
      "WARNING: Ignoring invalid distribution -pype1 (c:\\users\\sbauser\\anaconda3\\lib\\site-packages)\n",
      "WARNING: Ignoring invalid distribution -pype1 (c:\\users\\sbauser\\anaconda3\\lib\\site-packages)\n"
     ]
    },
    {
     "name": "stdout",
     "output_type": "stream",
     "text": [
      "Requirement already satisfied: lightgbm in c:\\users\\sbauser\\anaconda3\\lib\\site-packages (3.3.5)\n",
      "Requirement already satisfied: scipy in c:\\users\\sbauser\\anaconda3\\lib\\site-packages (from lightgbm) (1.10.0)\n",
      "Requirement already satisfied: scikit-learn!=0.22.0 in c:\\users\\sbauser\\anaconda3\\lib\\site-packages (from lightgbm) (1.0.2)\n",
      "Requirement already satisfied: wheel in c:\\users\\sbauser\\anaconda3\\lib\\site-packages (from lightgbm) (0.37.1)\n",
      "Requirement already satisfied: numpy in c:\\users\\sbauser\\anaconda3\\lib\\site-packages (from lightgbm) (1.21.5)\n",
      "Requirement already satisfied: threadpoolctl>=2.0.0 in c:\\users\\sbauser\\anaconda3\\lib\\site-packages (from scikit-learn!=0.22.0->lightgbm) (2.2.0)\n",
      "Requirement already satisfied: joblib>=0.11 in c:\\users\\sbauser\\anaconda3\\lib\\site-packages (from scikit-learn!=0.22.0->lightgbm) (1.1.0)\n"
     ]
    }
   ],
   "source": [
    "# 모듈이 없다는 오류가 발생해서 이 파일 한정으로 install \n",
    "!pip install lightgbm\n",
    "\n",
    "# lightgbm을 사용하기 위해 불러오기\n",
    "import lightgbm as lgb\n",
    "\n",
    "# rmse수치도 확인해야 하기에 임포트\n",
    "from sklearn.metrics import mean_squared_error"
   ]
  },
  {
   "cell_type": "code",
   "execution_count": 3,
   "id": "d58a7eaa",
   "metadata": {
    "scrolled": true
   },
   "outputs": [
    {
     "data": {
      "text/html": [
       "<div>\n",
       "<style scoped>\n",
       "    .dataframe tbody tr th:only-of-type {\n",
       "        vertical-align: middle;\n",
       "    }\n",
       "\n",
       "    .dataframe tbody tr th {\n",
       "        vertical-align: top;\n",
       "    }\n",
       "\n",
       "    .dataframe thead th {\n",
       "        text-align: right;\n",
       "    }\n",
       "</style>\n",
       "<table border=\"1\" class=\"dataframe\">\n",
       "  <thead>\n",
       "    <tr style=\"text-align: right;\">\n",
       "      <th></th>\n",
       "      <th>date_block_num</th>\n",
       "      <th>shop_id</th>\n",
       "      <th>item_id</th>\n",
       "      <th>item_cnt_month</th>\n",
       "      <th>item_category_id</th>\n",
       "      <th>main_type_id</th>\n",
       "      <th>sub_type_id</th>\n",
       "      <th>city_id</th>\n",
       "      <th>year</th>\n",
       "      <th>month</th>\n",
       "      <th>...</th>\n",
       "      <th>date_item_month_mean_lag_6</th>\n",
       "      <th>date_item_month_mean_lag_12</th>\n",
       "      <th>date_cat_month_mean_lag_1</th>\n",
       "      <th>date_shop_cat_month_mean_lag_1</th>\n",
       "      <th>date_shop_type_month_mean_lag_1</th>\n",
       "      <th>date_shop_subtype_month_mean_lag_1</th>\n",
       "      <th>date_city_month_mean_lag_1</th>\n",
       "      <th>date_city_item_month_mean_lag_1</th>\n",
       "      <th>date_type_month_mean_lag_1</th>\n",
       "      <th>date_subtype_month_mean_lag_1</th>\n",
       "    </tr>\n",
       "  </thead>\n",
       "  <tbody>\n",
       "    <tr>\n",
       "      <th>0</th>\n",
       "      <td>0</td>\n",
       "      <td>5</td>\n",
       "      <td>5037</td>\n",
       "      <td>0</td>\n",
       "      <td>19</td>\n",
       "      <td>5</td>\n",
       "      <td>10</td>\n",
       "      <td>3</td>\n",
       "      <td>2013</td>\n",
       "      <td>1</td>\n",
       "      <td>...</td>\n",
       "      <td>0.0</td>\n",
       "      <td>0.0</td>\n",
       "      <td>0.0</td>\n",
       "      <td>0.0</td>\n",
       "      <td>0.0</td>\n",
       "      <td>0.0</td>\n",
       "      <td>0.0</td>\n",
       "      <td>0.0</td>\n",
       "      <td>0.0</td>\n",
       "      <td>0.0</td>\n",
       "    </tr>\n",
       "    <tr>\n",
       "      <th>1</th>\n",
       "      <td>0</td>\n",
       "      <td>5</td>\n",
       "      <td>5320</td>\n",
       "      <td>0</td>\n",
       "      <td>55</td>\n",
       "      <td>13</td>\n",
       "      <td>2</td>\n",
       "      <td>3</td>\n",
       "      <td>2013</td>\n",
       "      <td>1</td>\n",
       "      <td>...</td>\n",
       "      <td>0.0</td>\n",
       "      <td>0.0</td>\n",
       "      <td>0.0</td>\n",
       "      <td>0.0</td>\n",
       "      <td>0.0</td>\n",
       "      <td>0.0</td>\n",
       "      <td>0.0</td>\n",
       "      <td>0.0</td>\n",
       "      <td>0.0</td>\n",
       "      <td>0.0</td>\n",
       "    </tr>\n",
       "    <tr>\n",
       "      <th>2</th>\n",
       "      <td>0</td>\n",
       "      <td>5</td>\n",
       "      <td>5233</td>\n",
       "      <td>0</td>\n",
       "      <td>19</td>\n",
       "      <td>5</td>\n",
       "      <td>10</td>\n",
       "      <td>3</td>\n",
       "      <td>2013</td>\n",
       "      <td>1</td>\n",
       "      <td>...</td>\n",
       "      <td>0.0</td>\n",
       "      <td>0.0</td>\n",
       "      <td>0.0</td>\n",
       "      <td>0.0</td>\n",
       "      <td>0.0</td>\n",
       "      <td>0.0</td>\n",
       "      <td>0.0</td>\n",
       "      <td>0.0</td>\n",
       "      <td>0.0</td>\n",
       "      <td>0.0</td>\n",
       "    </tr>\n",
       "    <tr>\n",
       "      <th>3</th>\n",
       "      <td>0</td>\n",
       "      <td>5</td>\n",
       "      <td>5232</td>\n",
       "      <td>0</td>\n",
       "      <td>23</td>\n",
       "      <td>5</td>\n",
       "      <td>16</td>\n",
       "      <td>3</td>\n",
       "      <td>2013</td>\n",
       "      <td>1</td>\n",
       "      <td>...</td>\n",
       "      <td>0.0</td>\n",
       "      <td>0.0</td>\n",
       "      <td>0.0</td>\n",
       "      <td>0.0</td>\n",
       "      <td>0.0</td>\n",
       "      <td>0.0</td>\n",
       "      <td>0.0</td>\n",
       "      <td>0.0</td>\n",
       "      <td>0.0</td>\n",
       "      <td>0.0</td>\n",
       "    </tr>\n",
       "    <tr>\n",
       "      <th>4</th>\n",
       "      <td>0</td>\n",
       "      <td>5</td>\n",
       "      <td>5268</td>\n",
       "      <td>0</td>\n",
       "      <td>20</td>\n",
       "      <td>5</td>\n",
       "      <td>11</td>\n",
       "      <td>3</td>\n",
       "      <td>2013</td>\n",
       "      <td>1</td>\n",
       "      <td>...</td>\n",
       "      <td>0.0</td>\n",
       "      <td>0.0</td>\n",
       "      <td>0.0</td>\n",
       "      <td>0.0</td>\n",
       "      <td>0.0</td>\n",
       "      <td>0.0</td>\n",
       "      <td>0.0</td>\n",
       "      <td>0.0</td>\n",
       "      <td>0.0</td>\n",
       "      <td>0.0</td>\n",
       "    </tr>\n",
       "  </tbody>\n",
       "</table>\n",
       "<p>5 rows × 35 columns</p>\n",
       "</div>"
      ],
      "text/plain": [
       "   date_block_num  shop_id  item_id  item_cnt_month  item_category_id  \\\n",
       "0               0        5     5037               0                19   \n",
       "1               0        5     5320               0                55   \n",
       "2               0        5     5233               0                19   \n",
       "3               0        5     5232               0                23   \n",
       "4               0        5     5268               0                20   \n",
       "\n",
       "   main_type_id  sub_type_id  city_id  year  month  ...  \\\n",
       "0             5           10        3  2013      1  ...   \n",
       "1            13            2        3  2013      1  ...   \n",
       "2             5           10        3  2013      1  ...   \n",
       "3             5           16        3  2013      1  ...   \n",
       "4             5           11        3  2013      1  ...   \n",
       "\n",
       "   date_item_month_mean_lag_6  date_item_month_mean_lag_12  \\\n",
       "0                         0.0                          0.0   \n",
       "1                         0.0                          0.0   \n",
       "2                         0.0                          0.0   \n",
       "3                         0.0                          0.0   \n",
       "4                         0.0                          0.0   \n",
       "\n",
       "   date_cat_month_mean_lag_1  date_shop_cat_month_mean_lag_1  \\\n",
       "0                        0.0                             0.0   \n",
       "1                        0.0                             0.0   \n",
       "2                        0.0                             0.0   \n",
       "3                        0.0                             0.0   \n",
       "4                        0.0                             0.0   \n",
       "\n",
       "   date_shop_type_month_mean_lag_1  date_shop_subtype_month_mean_lag_1  \\\n",
       "0                              0.0                                 0.0   \n",
       "1                              0.0                                 0.0   \n",
       "2                              0.0                                 0.0   \n",
       "3                              0.0                                 0.0   \n",
       "4                              0.0                                 0.0   \n",
       "\n",
       "   date_city_month_mean_lag_1  date_city_item_month_mean_lag_1  \\\n",
       "0                         0.0                              0.0   \n",
       "1                         0.0                              0.0   \n",
       "2                         0.0                              0.0   \n",
       "3                         0.0                              0.0   \n",
       "4                         0.0                              0.0   \n",
       "\n",
       "   date_type_month_mean_lag_1  date_subtype_month_mean_lag_1  \n",
       "0                         0.0                            0.0  \n",
       "1                         0.0                            0.0  \n",
       "2                         0.0                            0.0  \n",
       "3                         0.0                            0.0  \n",
       "4                         0.0                            0.0  \n",
       "\n",
       "[5 rows x 35 columns]"
      ]
     },
     "execution_count": 3,
     "metadata": {},
     "output_type": "execute_result"
    }
   ],
   "source": [
    "# 데이터 불러오기\n",
    "df = pd.read_csv('./future_sales_final.csv')\n",
    "df.head()"
   ]
  },
  {
   "cell_type": "code",
   "execution_count": 4,
   "id": "fd4f346c",
   "metadata": {
    "scrolled": false
   },
   "outputs": [
    {
     "data": {
      "text/plain": [
       "Index(['date_block_num', 'shop_id', 'item_id', 'item_cnt_month',\n",
       "       'item_category_id', 'main_type_id', 'sub_type_id', 'city_id', 'year',\n",
       "       'month', 'day', 'item_cnt_month_lag_1', 'item_cnt_month_lag_2',\n",
       "       'item_cnt_month_lag_3', 'item_cnt_month_lag_6', 'item_cnt_month_lag_12',\n",
       "       'date_cnt_month_mean_lag_1', 'date_shop_month_mean_lag_1',\n",
       "       'date_shop_month_mean_lag_2', 'date_shop_month_mean_lag_3',\n",
       "       'date_shop_month_mean_lag_6', 'date_shop_month_mean_lag_12',\n",
       "       'date_item_month_mean_lag_1', 'date_item_month_mean_lag_2',\n",
       "       'date_item_month_mean_lag_3', 'date_item_month_mean_lag_6',\n",
       "       'date_item_month_mean_lag_12', 'date_cat_month_mean_lag_1',\n",
       "       'date_shop_cat_month_mean_lag_1', 'date_shop_type_month_mean_lag_1',\n",
       "       'date_shop_subtype_month_mean_lag_1', 'date_city_month_mean_lag_1',\n",
       "       'date_city_item_month_mean_lag_1', 'date_type_month_mean_lag_1',\n",
       "       'date_subtype_month_mean_lag_1'],\n",
       "      dtype='object')"
      ]
     },
     "execution_count": 4,
     "metadata": {},
     "output_type": "execute_result"
    }
   ],
   "source": [
    "df.columns"
   ]
  },
  {
   "cell_type": "code",
   "execution_count": 6,
   "id": "aa6ef025",
   "metadata": {},
   "outputs": [],
   "source": [
    "# train, validation, test 데이터 3가지로 나누기\n",
    "\n",
    "# 훈련 데이터 (피쳐)\n",
    "X_train = df[df['date_block_num'] < 33]\n",
    "X_train = X_train.drop(['item_cnt_month'], axis=1)\n",
    "\n",
    "# 검증 데이터 (피처)\n",
    "X_valid = df[df['date_block_num'] == 33]\n",
    "X_valid = X_valid.drop(['item_cnt_month'], axis=1)\n",
    "\n",
    "# 테스트 데이터 (피처)\n",
    "X_test = df[df['date_block_num'] == 34]\n",
    "X_test = X_test.drop(['item_cnt_month'], axis=1)\n",
    "\n",
    "# 훈련 데이터 (타깃값)\n",
    "y_train = df[df['date_block_num'] < 33]['item_cnt_month']\n",
    "# 검증 데이터 (타깃값)\n",
    "y_valid = df[df['date_block_num'] == 33]['item_cnt_month']\n",
    "\n",
    "\n",
    "\n",
    "# 대회의 조건: item_cnt_month를 0~20으로 제한\n",
    "# 따라서 훈련시킬 때 clip을 사용유무를 선택\n",
    "\n",
    "# y_train = y_train.clip(0, 20)\n",
    "# y_valid = y_valid.clip(0, 20)\n",
    "\n",
    "# clip을 사용하지 않음\n",
    "    # 조금이라도 더 정확한 값을 예측하고,\n",
    "    # 추후에 데이터를 clip하는 게 맞다고 판단"
   ]
  },
  {
   "cell_type": "code",
   "execution_count": null,
   "id": "512f6b49",
   "metadata": {},
   "outputs": [
    {
     "name": "stdout",
     "output_type": "stream",
     "text": [
      "Fitting 3 folds for each of 50 candidates, totalling 150 fits\n",
      "[LightGBM] [Warning] feature_fraction is set=0.8, colsample_bytree=1.0 will be ignored. Current value: feature_fraction=0.8\n",
      "[LightGBM] [Warning] bagging_fraction is set=0.85, subsample=1.0 will be ignored. Current value: bagging_fraction=0.85\n",
      "[LightGBM] [Warning] bagging_freq is set=5, subsample_freq=0 will be ignored. Current value: bagging_freq=5\n",
      "Best parameters: {'bagging_fraction': 0.85, 'bagging_freq': 5, 'feature_fraction': 0.8, 'force_col_wise': True, 'learning_rate': 0.05, 'num_leaves': 282}\n",
      "Best score: -0.7504977657365307\n"
     ]
    }
   ],
   "source": [
    "# 최적의 하이퍼파라미터 찾기\n",
    "# Grid Search는 가능한 모든 조합을 시도하고 가장 좋은 조합을 선택하기 때문에\n",
    "# Random Serach보다 오랜 시간 소요된다.\n",
    "# Random Search는 무작위로 하이퍼파라미터를 선택하고 지정된 횟수만큼 탐색한다.\n",
    "# Random Search는 Grid Search보다 계산 비용이 적지만, 최적의 하이퍼파라미터를 찾을 확률이 높아진다.\n",
    "\n",
    "# Random Search\n",
    "from sklearn.model_selection import RandomizedSearchCV\n",
    "from scipy.stats import randint as sp_randint\n",
    "# Scientific Python.stats 모듈은 수치해석, 통계 등에 쓰이는 라이브러리 패키지\n",
    "# 그중 randint 함수는 이 모듈에 포함된 랜덤 정수 생성 함수 중 하나이다.\n",
    "\n",
    "\n",
    "# Random Search에 사용할 하이퍼파라미터 분포\n",
    "param_dist = {\n",
    "    'num_leaves': sp_randint(255, 1024),\n",
    "    'learning_rate': [0.005, 0.01, 0.05],\n",
    "    'feature_fraction': [0.75, 0.8, 0.85],\n",
    "    'bagging_fraction': [0.75, 0.8, 0.85],\n",
    "    'bagging_freq': [3, 5, 7],\n",
    "    'force_col_wise': [True]\n",
    "}\n",
    "\n",
    "# Random Search 객체 생성\n",
    "lgb_model = lgb.LGBMRegressor()\n",
    "random_search = RandomizedSearchCV(lgb_model, param_distributions=param_dist,\n",
    "                                   cv=3, scoring='neg_root_mean_squared_error',\n",
    "                                   verbose=2, n_jobs=4, n_iter=50)\n",
    "\n",
    "# Random Search 수행\n",
    "random_search.fit(X_train, y_train)\n",
    "\n",
    "# 최적의 하이퍼파라미터와 평가 점수 출력\n",
    "print(\"Best parameters:\", random_search.best_params_)\n",
    "print(\"Best score:\", random_search.best_score_)"
   ]
  },
  {
   "attachments": {},
   "cell_type": "markdown",
   "id": "7d025cf4",
   "metadata": {},
   "source": [
    "- num_leaves: 의사 결정 트리의 잎 노드 개수\n",
    "    - 너무 크면 과적합을 유발하고, 너무 작으면 과소적합이 발생할 수 있습니다.\n",
    "    - 따라서 255부터 1024사이의 정수값 중에서 랜덤으로 선택한다는 것을 의미합니다.\n",
    "    - 이 범위로 설정하는 게 가장 일반적이라고 해서 이렇게 설정하였습니다.\n",
    "- learning_rate: 학습 속도\n",
    "- feature_fraction: 각 트리를 학습할 때 무작위로 선택되는 특성의 비율\n",
    "    - 이를 통해 각 트리가 서로 다른 특성에 대해 학습하도록 유도하여 모델의 다양성을 높일 수 있습니다.\n",
    "- bagging_fraction: 설정한 값만큼의 샘플이 무작위로 선택한다는 것을 의미\n",
    "    - 디폴트값은 1이지만, 모델의 복잡도를 줄이기 위해 일반적으로 0.5~0.8을 사용합니다.\n",
    "    - 하지만 값이 너무 낮으면 모델 성능이 저하될 수 있으므로 적절한 값을 조정해야 합니다.\n",
    "- bagging_freq: bagging이 적용될 빈도수\n",
    "    - 일반적으로 작은 값을 선택합니다.\n",
    "- force_col_wise: 컬럼 단위로 계산하는 것을 의미(True or False)\n",
    "    - Light GBM은 컬럼 중심으로 구현되어 있기 때문에, 이걸 True로 설정하면 더 빠르게 계산할 수 있습니다."
   ]
  },
  {
   "cell_type": "code",
   "execution_count": 21,
   "id": "735f579f",
   "metadata": {},
   "outputs": [],
   "source": [
    "# Best parameters: {'bagging_fraction': 0.85, 'bagging_freq': 5,\n",
    "#                   'feature_fraction': 0.8, 'force_col_wise': True,\n",
    "#                   'learning_rate': 0.05, 'num_leaves': 282}\n",
    "# Best score: -0.7504977657365307"
   ]
  },
  {
   "cell_type": "markdown",
   "id": "f47a2323",
   "metadata": {},
   "source": [
    "<!-- Best parameters: {'bagging_fraction': 0.85, 'bagging_freq': 5,\n",
    "                  'feature_fraction': 0.8, 'force_col_wise': True,\n",
    "                  'learning_rate': 0.05, 'num_leaves': 282}\n",
    "Best score: -0.7504977657365307 -->"
   ]
  },
  {
   "cell_type": "code",
   "execution_count": 18,
   "id": "4a933c03",
   "metadata": {},
   "outputs": [
    {
     "name": "stderr",
     "output_type": "stream",
     "text": [
      "c:\\Users\\SBAUser\\anaconda3\\lib\\site-packages\\lightgbm\\engine.py:181: UserWarning: 'early_stopping_rounds' argument is deprecated and will be removed in a future release of LightGBM. Pass 'early_stopping()' callback via 'callbacks' argument instead.\n",
      "  _log_warning(\"'early_stopping_rounds' argument is deprecated and will be removed in a future release of LightGBM. \"\n",
      "c:\\Users\\SBAUser\\anaconda3\\lib\\site-packages\\lightgbm\\basic.py:2068: UserWarning: categorical_feature in Dataset is overridden.\n",
      "New categorical_feature is ['city_id', 'item_category_id', 'main_type_id', 'month', 'shop_id']\n",
      "  _log_warning('categorical_feature in Dataset is overridden.\\n'\n",
      "c:\\Users\\SBAUser\\anaconda3\\lib\\site-packages\\lightgbm\\engine.py:239: UserWarning: 'verbose_eval' argument is deprecated and will be removed in a future release of LightGBM. Pass 'log_evaluation()' callback via 'callbacks' argument instead.\n",
      "  _log_warning(\"'verbose_eval' argument is deprecated and will be removed in a future release of LightGBM. \"\n"
     ]
    },
    {
     "name": "stdout",
     "output_type": "stream",
     "text": [
      "[LightGBM] [Info] Total Bins 5097\n",
      "[LightGBM] [Info] Number of data points in the train set: 7068600, number of used features: 34\n",
      "[LightGBM] [Info] Start training from score 0.185447\n"
     ]
    },
    {
     "name": "stderr",
     "output_type": "stream",
     "text": [
      "c:\\Users\\SBAUser\\anaconda3\\lib\\site-packages\\lightgbm\\basic.py:1780: UserWarning: Overriding the parameters from Reference Dataset.\n",
      "  _log_warning('Overriding the parameters from Reference Dataset.')\n",
      "c:\\Users\\SBAUser\\anaconda3\\lib\\site-packages\\lightgbm\\basic.py:1513: UserWarning: categorical_column in param dict is overridden.\n",
      "  _log_warning(f'{cat_alias} in param dict is overridden.')\n"
     ]
    },
    {
     "name": "stdout",
     "output_type": "stream",
     "text": [
      "Training until validation scores don't improve for 150 rounds\n",
      "[100]\ttraining's rmse: 0.657033\tvalid_1's rmse: 0.86517\n",
      "[200]\ttraining's rmse: 0.622237\tvalid_1's rmse: 0.869203\n",
      "Early stopping, best iteration is:\n",
      "[70]\ttraining's rmse: 0.675387\tvalid_1's rmse: 0.863069\n"
     ]
    }
   ],
   "source": [
    "# Random Search의 결과값에 맞춘 파라미터 설정\n",
    "\n",
    "\n",
    "# LightGBM 하이퍼파라미터\n",
    "params = {'metric': 'rmse',\n",
    "          'bagging_fraction': 0.85,\n",
    "          'bagging_freq': 5,\n",
    "          'feature_fraction': 0.8,\n",
    "          'force_col_wise': True,\n",
    "          'learning_rate': 0.05,\n",
    "          'num_leaves': 282}\n",
    "\n",
    "cat_features = ['shop_id', 'city_id', 'item_category_id', 'main_type_id', 'month']\n",
    "\n",
    "# LightGBM 훈련 및 검증 데이터셋\n",
    "dtrain = lgb.Dataset(X_train, y_train)\n",
    "dvalid = lgb.Dataset(X_valid, y_valid)\n",
    "\n",
    "# LightGBM 모델 훈련\n",
    "lgb_model = lgb.train(params=params,\n",
    "                      train_set=dtrain,\n",
    "                      num_boost_round=1500,\n",
    "                      valid_sets=(dtrain, dvalid),\n",
    "                      early_stopping_rounds=150,\n",
    "                      categorical_feature=cat_features,\n",
    "                      verbose_eval=100)\n",
    "\n",
    "# 결과값이 training's rmse: 0.675387\tvalid_1's rmse: 0.863069으로, 과적합으로 예측됨"
   ]
  },
  {
   "attachments": {},
   "cell_type": "markdown",
   "id": "a66fa1d1",
   "metadata": {},
   "source": [
    "1. 첫 번째 조정\n",
    "```\n",
    "params = {'metric': 'rmse', \n",
    "          'num_leaves': 31,\n",
    "          'learning_rate': 0.005,\n",
    "          'feature_fraction': 0.75,\n",
    "          'bagging_fraction': 0.75,\n",
    "          'force_col_wise': True,\n",
    "          'random_state': 10}\n",
    "training's rmse: 0.726692\tvalid_1's rmse: 0.872315\n",
    "```\n",
    "\n",
    "\n",
    "2. 두 번째 조정\n",
    "```\n",
    "params = {'metric': 'rmse', \n",
    "          'num_leaves': 31,\n",
    "          'learning_rate': 0.005,\n",
    "          'feature_fraction': 0.8, # 이 부분을 조정함\n",
    "          'bagging_fraction': 0.7,\n",
    "          'force_col_wise': True,\n",
    "          'random_state': 10}\n",
    "training's rmse: 0.757593\tvalid_1's rmse: 0.87795\n",
    "```\n",
    "과적합에서 조금 벗어났음을 확인함"
   ]
  },
  {
   "cell_type": "code",
   "execution_count": 22,
   "id": "ddacd470",
   "metadata": {},
   "outputs": [
    {
     "name": "stdout",
     "output_type": "stream",
     "text": [
      "[LightGBM] [Info] Total Bins 5093\n",
      "[LightGBM] [Info] Number of data points in the train set: 7068600, number of used features: 34\n",
      "[LightGBM] [Info] Start training from score 0.185447\n",
      "Training until validation scores don't improve for 150 rounds\n",
      "[100]\ttraining's rmse: 0.880911\tvalid_1's rmse: 0.955225\n",
      "[200]\ttraining's rmse: 0.809135\tvalid_1's rmse: 0.904068\n",
      "[300]\ttraining's rmse: 0.775133\tvalid_1's rmse: 0.884246\n",
      "[400]\ttraining's rmse: 0.757705\tvalid_1's rmse: 0.877205\n",
      "[500]\ttraining's rmse: 0.747897\tvalid_1's rmse: 0.874085\n",
      "[600]\ttraining's rmse: 0.741328\tvalid_1's rmse: 0.87268\n",
      "[700]\ttraining's rmse: 0.736637\tvalid_1's rmse: 0.871901\n",
      "[800]\ttraining's rmse: 0.733022\tvalid_1's rmse: 0.871489\n",
      "[900]\ttraining's rmse: 0.730092\tvalid_1's rmse: 0.871311\n",
      "[1000]\ttraining's rmse: 0.727413\tvalid_1's rmse: 0.871418\n",
      "Early stopping, best iteration is:\n",
      "[850]\ttraining's rmse: 0.731488\tvalid_1's rmse: 0.871237\n"
     ]
    }
   ],
   "source": [
    "# 디폴트 (최종)\n",
    "\n",
    "# LightGBM 하이퍼파라미터\n",
    "params = {'metric': 'rmse', \n",
    "          'num_leaves': 31,\n",
    "          'learning_rate': 0.005,\n",
    "          'feature_fraction': 0.75,\n",
    "          'bagging_fraction': 0.75,\n",
    "          'bagging_freq': 5,\n",
    "          'force_col_wise': True,\n",
    "          'random_state': 42}\n",
    "\n",
    "cat_features = ['shop_id', 'city_id', 'item_category_id', 'main_type_id', 'month']\n",
    "\n",
    "# LightGBM 훈련 및 검증 데이터셋\n",
    "dtrain = lgb.Dataset(X_train, y_train)\n",
    "dvalid = lgb.Dataset(X_valid, y_valid)\n",
    "\n",
    "# LightGBM 모델 훈련\n",
    "lgb_model = lgb.train(params=params,\n",
    "                      train_set=dtrain,\n",
    "                      num_boost_round=1500,\n",
    "                      valid_sets=(dtrain, dvalid),\n",
    "                      early_stopping_rounds=150,\n",
    "                      categorical_feature=cat_features,\n",
    "                      verbose_eval=100)"
   ]
  },
  {
   "cell_type": "code",
   "execution_count": 32,
   "id": "049506b7",
   "metadata": {},
   "outputs": [
    {
     "name": "stderr",
     "output_type": "stream",
     "text": [
      "c:\\Users\\SBAUser\\anaconda3\\lib\\site-packages\\lightgbm\\basic.py:2068: UserWarning: categorical_feature in Dataset is overridden.\n",
      "New categorical_feature is ['city_id', 'item_category_id', 'main_type_id', 'month', 'shop_id']\n",
      "  _log_warning('categorical_feature in Dataset is overridden.\\n'\n",
      "c:\\Users\\SBAUser\\anaconda3\\lib\\site-packages\\lightgbm\\engine.py:239: UserWarning: 'verbose_eval' argument is deprecated and will be removed in a future release of LightGBM. Pass 'log_evaluation()' callback via 'callbacks' argument instead.\n",
      "  _log_warning(\"'verbose_eval' argument is deprecated and will be removed in a future release of LightGBM. \"\n"
     ]
    },
    {
     "name": "stdout",
     "output_type": "stream",
     "text": [
      "[LightGBM] [Info] Total Bins 5093\n",
      "[LightGBM] [Info] Number of data points in the train set: 7068600, number of used features: 34\n",
      "[LightGBM] [Info] Start training from score 0.185447\n"
     ]
    },
    {
     "name": "stderr",
     "output_type": "stream",
     "text": [
      "c:\\Users\\SBAUser\\anaconda3\\lib\\site-packages\\lightgbm\\basic.py:1780: UserWarning: Overriding the parameters from Reference Dataset.\n",
      "  _log_warning('Overriding the parameters from Reference Dataset.')\n",
      "c:\\Users\\SBAUser\\anaconda3\\lib\\site-packages\\lightgbm\\basic.py:1513: UserWarning: categorical_column in param dict is overridden.\n",
      "  _log_warning(f'{cat_alias} in param dict is overridden.')\n"
     ]
    },
    {
     "name": "stdout",
     "output_type": "stream",
     "text": [
      "[100]\ttraining's rmse: 0.880911\tvalid_1's rmse: 0.955225\n",
      "[200]\ttraining's rmse: 0.809135\tvalid_1's rmse: 0.904068\n",
      "[300]\ttraining's rmse: 0.775133\tvalid_1's rmse: 0.884246\n",
      "[400]\ttraining's rmse: 0.757705\tvalid_1's rmse: 0.877205\n",
      "[500]\ttraining's rmse: 0.747897\tvalid_1's rmse: 0.874085\n",
      "[600]\ttraining's rmse: 0.741328\tvalid_1's rmse: 0.87268\n",
      "[700]\ttraining's rmse: 0.736637\tvalid_1's rmse: 0.871901\n",
      "[800]\ttraining's rmse: 0.733022\tvalid_1's rmse: 0.871489\n",
      "[900]\ttraining's rmse: 0.730092\tvalid_1's rmse: 0.871311\n",
      "[1000]\ttraining's rmse: 0.727413\tvalid_1's rmse: 0.871418\n",
      "[1100]\ttraining's rmse: 0.725109\tvalid_1's rmse: 0.871349\n",
      "[1200]\ttraining's rmse: 0.723082\tvalid_1's rmse: 0.871158\n",
      "[1300]\ttraining's rmse: 0.721063\tvalid_1's rmse: 0.871307\n",
      "[1400]\ttraining's rmse: 0.718931\tvalid_1's rmse: 0.87104\n",
      "[1500]\ttraining's rmse: 0.71708\tvalid_1's rmse: 0.870725\n"
     ]
    }
   ],
   "source": [
    "# 디폴트 (최종)\n",
    "\n",
    "# LightGBM 하이퍼파라미터\n",
    "params = {'metric': 'rmse', \n",
    "          'num_leaves': 31,\n",
    "          'learning_rate': 0.005,\n",
    "          'feature_fraction': 0.75,\n",
    "          'bagging_fraction': 0.75,\n",
    "          'bagging_freq': 5,\n",
    "          'force_col_wise': True,\n",
    "          'random_state': 42}\n",
    "\n",
    "cat_features = ['shop_id', 'city_id', 'item_category_id', 'main_type_id', 'month']\n",
    "\n",
    "# LightGBM 훈련 및 검증 데이터셋\n",
    "dtrain = lgb.Dataset(X_train, y_train)\n",
    "dvalid = lgb.Dataset(X_valid, y_valid)\n",
    "\n",
    "# LightGBM 모델 훈련\n",
    "lgb_model = lgb.train(params=params,\n",
    "                      train_set=dtrain,\n",
    "                      num_boost_round=1500,\n",
    "                      valid_sets=(dtrain, dvalid),\n",
    "                      categorical_feature=cat_features,\n",
    "                      verbose_eval=100)"
   ]
  },
  {
   "cell_type": "code",
   "execution_count": 26,
   "id": "74d9fea4",
   "metadata": {},
   "outputs": [
    {
     "data": {
      "text/plain": [
       "array([0.70854574, 0.04817206, 1.12395567, ..., 0.05909546, 0.03353667,\n",
       "       0.06965296])"
      ]
     },
     "execution_count": 26,
     "metadata": {},
     "output_type": "execute_result"
    }
   ],
   "source": [
    "preds = lgb_model.predict(X_test).clip(0,20)\n",
    "preds"
   ]
  },
  {
   "cell_type": "code",
   "execution_count": 27,
   "id": "3a17765c",
   "metadata": {},
   "outputs": [
    {
     "data": {
      "text/html": [
       "<div>\n",
       "<style scoped>\n",
       "    .dataframe tbody tr th:only-of-type {\n",
       "        vertical-align: middle;\n",
       "    }\n",
       "\n",
       "    .dataframe tbody tr th {\n",
       "        vertical-align: top;\n",
       "    }\n",
       "\n",
       "    .dataframe thead th {\n",
       "        text-align: right;\n",
       "    }\n",
       "</style>\n",
       "<table border=\"1\" class=\"dataframe\">\n",
       "  <thead>\n",
       "    <tr style=\"text-align: right;\">\n",
       "      <th></th>\n",
       "      <th>ID</th>\n",
       "      <th>item_cnt_month</th>\n",
       "    </tr>\n",
       "  </thead>\n",
       "  <tbody>\n",
       "    <tr>\n",
       "      <th>0</th>\n",
       "      <td>0</td>\n",
       "      <td>0.5</td>\n",
       "    </tr>\n",
       "    <tr>\n",
       "      <th>1</th>\n",
       "      <td>1</td>\n",
       "      <td>0.5</td>\n",
       "    </tr>\n",
       "    <tr>\n",
       "      <th>2</th>\n",
       "      <td>2</td>\n",
       "      <td>0.5</td>\n",
       "    </tr>\n",
       "    <tr>\n",
       "      <th>3</th>\n",
       "      <td>3</td>\n",
       "      <td>0.5</td>\n",
       "    </tr>\n",
       "    <tr>\n",
       "      <th>4</th>\n",
       "      <td>4</td>\n",
       "      <td>0.5</td>\n",
       "    </tr>\n",
       "  </tbody>\n",
       "</table>\n",
       "</div>"
      ],
      "text/plain": [
       "   ID  item_cnt_month\n",
       "0   0             0.5\n",
       "1   1             0.5\n",
       "2   2             0.5\n",
       "3   3             0.5\n",
       "4   4             0.5"
      ]
     },
     "execution_count": 27,
     "metadata": {},
     "output_type": "execute_result"
    }
   ],
   "source": [
    "submission = pd.read_csv('./sample_submission.csv')\n",
    "submission.head()"
   ]
  },
  {
   "cell_type": "code",
   "execution_count": 28,
   "id": "75b2e046",
   "metadata": {},
   "outputs": [],
   "source": [
    "submission['item_cnt_month'] = preds\n",
    "submission.to_csv('submission.csv', index=False)"
   ]
  }
 ],
 "metadata": {
  "kernelspec": {
   "display_name": "base",
   "language": "python",
   "name": "python3"
  },
  "language_info": {
   "codemirror_mode": {
    "name": "ipython",
    "version": 3
   },
   "file_extension": ".py",
   "mimetype": "text/x-python",
   "name": "python",
   "nbconvert_exporter": "python",
   "pygments_lexer": "ipython3",
   "version": "3.9.13"
  },
  "vscode": {
   "interpreter": {
    "hash": "1284a11239f1c582240c95e9b63f464998ce3454084d16e746adc349338fd12e"
   }
  }
 },
 "nbformat": 4,
 "nbformat_minor": 5
}
